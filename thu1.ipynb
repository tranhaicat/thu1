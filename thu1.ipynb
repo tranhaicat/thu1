{
 "cells": [
  {
   "cell_type": "code",
   "execution_count": null,
   "metadata": {},
   "outputs": [],
   "source": [
    "import numpy as np\n",
    "def BM(T,N,nsim): \n",
    "    dt = T/N\n",
    "    Z = np.random.randn(nsim,N)\n",
    "    W = np.zeros((nsim,N+1))\n",
    "    for t in range(0,N):\n",
    "        W[:,t+1] = W[:,t] + np.sqrt(dt)*Z[:,t]\n",
    "    return W\n",
    "\n",
    "W = BM(1, 100, 3)\n",
    "%matplotlib inline\n",
    "import matplotlib.pyplot as plt\n",
    "tvec = np.linspace(0,1,101)\n",
    "plt.plot(tvec,W[0,:],tvec,W[1,:],tvec,W[2,:])\n",
    "plt.show()"
   ]
  },
  {
   "cell_type": "raw",
   "metadata": {},
   "source": [
    "Россия - это сила"
   ]
  },
  {
   "cell_type": "markdown",
   "metadata": {},
   "source": [
    "Tiếng Việt có hiện không"
   ]
  }
 ],
 "metadata": {
  "kernelspec": {
   "display_name": "Python 3",
   "language": "python",
   "name": "python3"
  },
  "language_info": {
   "codemirror_mode": {
    "name": "ipython",
    "version": 3
   },
   "file_extension": ".py",
   "mimetype": "text/x-python",
   "name": "python",
   "nbconvert_exporter": "python",
   "pygments_lexer": "ipython3",
   "version": "3.8.5"
  }
 },
 "nbformat": 4,
 "nbformat_minor": 4
}
